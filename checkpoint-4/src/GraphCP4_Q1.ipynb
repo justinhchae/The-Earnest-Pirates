{
  "nbformat": 4,
  "nbformat_minor": 0,
  "metadata": {
    "colab": {
      "name": "GraphCP4-Q1.ipynb",
      "provenance": [],
      "collapsed_sections": []
    },
    "kernelspec": {
      "name": "python3",
      "display_name": "Python 3"
    },
    "language_info": {
      "name": "python"
    }
  },
  "cells": [
    {
      "cell_type": "code",
      "metadata": {
        "colab": {
          "base_uri": "https://localhost:8080/"
        },
        "id": "zBx81u-007VH",
        "outputId": "b44fc0cb-a762-4390-b440-c983bddf037e"
      },
      "source": [
        "# install java\n",
        "!apt-get install openjdk-8-jdk-headless -qq > /dev/null\n",
        "\n",
        "# install spark (change the version number if needed)\n",
        "!wget -q https://archive.apache.org/dist/spark/spark-3.2.0/spark-3.2.0-bin-hadoop3.2.tgz\n",
        "\n",
        "# unzip the spark file to the current folder\n",
        "!tar xf spark-3.2.0-bin-hadoop3.2.tgz\n",
        "\n",
        "# set your spark folder to your system path environment. \n",
        "import os\n",
        "os.environ[\"JAVA_HOME\"] = \"/usr/lib/jvm/java-8-openjdk-amd64\"\n",
        "os.environ[\"SPARK_HOME\"] = \"/content/spark-3.2.0-bin-hadoop3.2\"\n",
        "\n",
        "# install findspark using pip\n",
        "!pip install -q findspark\n",
        "\n",
        "# install pyspark\n",
        "!pip3 install pyspark==3.2.0\n",
        "\n",
        "# install graphframes\n",
        "!pip3 install graphframes"
      ],
      "execution_count": null,
      "outputs": [
        {
          "output_type": "stream",
          "name": "stdout",
          "text": [
            "Requirement already satisfied: pyspark==3.2.0 in /usr/local/lib/python3.7/dist-packages (3.2.0)\n",
            "Requirement already satisfied: py4j==0.10.9.2 in /usr/local/lib/python3.7/dist-packages (from pyspark==3.2.0) (0.10.9.2)\n",
            "Requirement already satisfied: graphframes in /usr/local/lib/python3.7/dist-packages (0.6)\n",
            "Requirement already satisfied: numpy in /usr/local/lib/python3.7/dist-packages (from graphframes) (1.19.5)\n",
            "Requirement already satisfied: nose in /usr/local/lib/python3.7/dist-packages (from graphframes) (1.3.7)\n"
          ]
        }
      ]
    },
    {
      "cell_type": "code",
      "metadata": {
        "colab": {
          "base_uri": "https://localhost:8080/"
        },
        "id": "ZN5pIMSC1Ggo",
        "outputId": "05afcb51-9e67-4ebd-ceaa-c8f3d05dc15d"
      },
      "source": [
        "!cp -v /content/graphframes-0.8.2-spark3.2-s_2.12.jar $SPARK_HOME/jars/"
      ],
      "execution_count": null,
      "outputs": [
        {
          "output_type": "stream",
          "name": "stdout",
          "text": [
            "'/content/graphframes-0.8.2-spark3.2-s_2.12.jar' -> '/content/spark-3.2.0-bin-hadoop3.2/jars/graphframes-0.8.2-spark3.2-s_2.12.jar'\n"
          ]
        }
      ]
    },
    {
      "cell_type": "code",
      "metadata": {
        "id": "njBUzZ4h0-rn"
      },
      "source": [
        "#import the packages\n",
        "from pyspark import *\n",
        "from pyspark.sql import *\n",
        "from graphframes import *\n",
        "import findspark\n",
        "import pandas as pd\n",
        "\n",
        "findspark.init()\n",
        "\n",
        "# Start a Spark session\n",
        "spark = SparkSession.builder.master(\"local[*]\").getOrCreate()"
      ],
      "execution_count": null,
      "outputs": []
    },
    {
      "cell_type": "code",
      "metadata": {
        "colab": {
          "base_uri": "https://localhost:8080/"
        },
        "id": "gn5Hte4a0-um",
        "outputId": "e525c3e6-10a1-4392-c0e8-4793c9ea5469"
      },
      "source": [
        "import psycopg2\n",
        "import pandas as pd"
      ],
      "execution_count": null,
      "outputs": [
        {
          "output_type": "stream",
          "name": "stderr",
          "text": [
            "/usr/local/lib/python3.7/dist-packages/psycopg2/__init__.py:144: UserWarning: The psycopg2 wheel package will be renamed from release 2.8; in order to keep installing from binary please use \"pip install psycopg2-binary\" instead. For details see: <http://initd.org/psycopg/docs/install.html#binary-install-from-pypi>.\n",
            "  \"\"\")\n"
          ]
        }
      ]
    },
    {
      "cell_type": "code",
      "metadata": {
        "id": "Dg91LsqU1KaQ"
      },
      "source": [
        "#establishing the connection\n",
        "conn = psycopg2.connect(\n",
        "   database=\"postgres\", user='cpdbstudent', password='DataSci4AI', host='codd01.research.northwestern.edu', port= '5432'\n",
        ")"
      ],
      "execution_count": null,
      "outputs": []
    },
    {
      "cell_type": "code",
      "metadata": {
        "id": "4xcjkyrU1Kc4"
      },
      "source": [
        "cursor = conn.cursor()"
      ],
      "execution_count": null,
      "outputs": []
    },
    {
      "cell_type": "code",
      "metadata": {
        "id": "CWxiBQPV1Kfx"
      },
      "source": [
        "edges_query = '''\n",
        "DROP TABLE IF EXISTS ids_distinct;\n",
        "create temp table ids_distinct as(\n",
        "select distinct a.id\n",
        "   \tfrom data_officer a\n",
        "join (\n",
        "SELECT rank, sum(total_allegations) as Total_allegations\n",
        "       from (select a.id, a.first_name, a.last_name, a.rank, count(b.officer_id) as total_allegations\n",
        "   \tfrom data_officer a\n",
        "join data_officerallegation b\n",
        "on a.id = b.officer_id\n",
        "group by a.id\n",
        "order by count(b.officer_id) desc)A group by rank order by total_allegations desc limit 10) b\n",
        "on a.rank = b.rank);\n",
        "\n",
        "select src, dst, relationship from(\n",
        "SELECT da1.officer_id src, da2.officer_id dst, COUNT(DISTINCT da1.allegation_id) relationship\n",
        "FROM data_officerallegation da1\n",
        "JOIN data_officerallegation da2 ON da1.allegation_id = da2.allegation_id AND da1.officer_id < da2.officer_id\n",
        "GROUP BY da1.officer_id, da2.officer_id ORDER BY count(*) DESC)popln_sample\n",
        "JOIN ids_distinct ON ids_distinct.id = popln_sample.src;\n",
        "\n",
        "'''"
      ],
      "execution_count": null,
      "outputs": []
    },
    {
      "cell_type": "code",
      "metadata": {
        "id": "XDRNobJt1Kim"
      },
      "source": [
        "nodes_query = '''\n",
        "DROP TABLE IF EXISTS ids_distinct;\n",
        "create temp table ids_distinct as(\n",
        "select distinct a.id, a.rank\n",
        "   \tfrom data_officer a\n",
        "join (\n",
        "SELECT rank, sum(total_allegations) as Total_allegations\n",
        "       from (select a.id, a.first_name, a.last_name, a.rank, count(b.officer_id) as total_allegations\n",
        "   \tfrom data_officer a\n",
        "join data_officerallegation b\n",
        "on a.id = b.officer_id\n",
        "group by a.id\n",
        "order by count(b.officer_id) desc)A group by rank order by total_allegations desc limit 10) b\n",
        "on a.rank = b.rank);\n",
        "\n",
        "DROP TABLE IF EXISTS edges_q1;\n",
        "create temp table edges_q1 as(\n",
        "select src, dst, relationship from(\n",
        "SELECT da1.officer_id src, da2.officer_id dst, COUNT(DISTINCT da1.allegation_id) relationship\n",
        "FROM data_officerallegation da1\n",
        "JOIN data_officerallegation da2 ON da1.allegation_id = da2.allegation_id AND da1.officer_id < da2.officer_id\n",
        "GROUP BY da1.officer_id, da2.officer_id ORDER BY count(*) DESC)popln_sample\n",
        "JOIN ids_distinct ON ids_distinct.id = popln_sample.src);\n",
        "\n",
        "SELECT id, rank, first_name || ' ' || last_name officer_name, allegation_count FROM data_officer\n",
        "where id in (select distinct src from edges_q1);\n",
        "'''"
      ],
      "execution_count": null,
      "outputs": []
    },
    {
      "cell_type": "code",
      "metadata": {
        "colab": {
          "base_uri": "https://localhost:8080/"
        },
        "id": "tqT0uAqD0-xc",
        "outputId": "be6f0ce1-3b38-4426-f327-7fde677af7aa"
      },
      "source": [
        "cursor.execute(edges_query)\n",
        "edges = cursor.fetchall()\n",
        "print(\"shape is: \" + str(len(edges))) # 17465\n",
        "\n",
        "df_edges = pd.DataFrame(edges)\n",
        "colnames = [desc[0] for desc in cursor.description]\n",
        "df_edges.columns = colnames"
      ],
      "execution_count": null,
      "outputs": [
        {
          "output_type": "stream",
          "name": "stdout",
          "text": [
            "shape is: 221740\n"
          ]
        }
      ]
    },
    {
      "cell_type": "code",
      "metadata": {
        "colab": {
          "base_uri": "https://localhost:8080/"
        },
        "id": "8cr5WG6C1dIu",
        "outputId": "fcacf9dd-402c-474e-ea1c-99b0a5d713ed"
      },
      "source": [
        "cursor.execute(nodes_query)\n",
        "nodes = cursor.fetchall()\n",
        "print(\"shape is: \" + str(len(nodes))) # 17465\n",
        "\n",
        "df_nodes = pd.DataFrame(nodes)\n",
        "colnames = [desc[0] for desc in cursor.description]\n",
        "df_nodes.columns = colnames"
      ],
      "execution_count": null,
      "outputs": [
        {
          "output_type": "stream",
          "name": "stdout",
          "text": [
            "shape is: 18192\n"
          ]
        }
      ]
    },
    {
      "cell_type": "code",
      "metadata": {
        "colab": {
          "base_uri": "https://localhost:8080/",
          "height": 419
        },
        "id": "qCEoYJS51dNY",
        "outputId": "a9123d50-dba0-45b4-9ef8-0adc1d072b97"
      },
      "source": [
        "df_nodes"
      ],
      "execution_count": null,
      "outputs": [
        {
          "output_type": "execute_result",
          "data": {
            "text/html": [
              "<div>\n",
              "<style scoped>\n",
              "    .dataframe tbody tr th:only-of-type {\n",
              "        vertical-align: middle;\n",
              "    }\n",
              "\n",
              "    .dataframe tbody tr th {\n",
              "        vertical-align: top;\n",
              "    }\n",
              "\n",
              "    .dataframe thead th {\n",
              "        text-align: right;\n",
              "    }\n",
              "</style>\n",
              "<table border=\"1\" class=\"dataframe\">\n",
              "  <thead>\n",
              "    <tr style=\"text-align: right;\">\n",
              "      <th></th>\n",
              "      <th>id</th>\n",
              "      <th>rank</th>\n",
              "      <th>officer_name</th>\n",
              "      <th>allegation_count</th>\n",
              "    </tr>\n",
              "  </thead>\n",
              "  <tbody>\n",
              "    <tr>\n",
              "      <th>0</th>\n",
              "      <td>24416</td>\n",
              "      <td>Police Officer</td>\n",
              "      <td>Michael Rodriguez</td>\n",
              "      <td>12</td>\n",
              "    </tr>\n",
              "    <tr>\n",
              "      <th>1</th>\n",
              "      <td>4790</td>\n",
              "      <td>Police Officer</td>\n",
              "      <td>Pablo Claudio</td>\n",
              "      <td>2</td>\n",
              "    </tr>\n",
              "    <tr>\n",
              "      <th>2</th>\n",
              "      <td>26745</td>\n",
              "      <td>Sergeant of Police</td>\n",
              "      <td>Richard Smith</td>\n",
              "      <td>3</td>\n",
              "    </tr>\n",
              "    <tr>\n",
              "      <th>3</th>\n",
              "      <td>3936</td>\n",
              "      <td>Police Officer</td>\n",
              "      <td>Ronald Carlson</td>\n",
              "      <td>5</td>\n",
              "    </tr>\n",
              "    <tr>\n",
              "      <th>4</th>\n",
              "      <td>18803</td>\n",
              "      <td>Police Officer</td>\n",
              "      <td>Melvin Mendez</td>\n",
              "      <td>5</td>\n",
              "    </tr>\n",
              "    <tr>\n",
              "      <th>...</th>\n",
              "      <td>...</td>\n",
              "      <td>...</td>\n",
              "      <td>...</td>\n",
              "      <td>...</td>\n",
              "    </tr>\n",
              "    <tr>\n",
              "      <th>18187</th>\n",
              "      <td>536</td>\n",
              "      <td>Police Officer</td>\n",
              "      <td>Alphonse Amezaga</td>\n",
              "      <td>2</td>\n",
              "    </tr>\n",
              "    <tr>\n",
              "      <th>18188</th>\n",
              "      <td>19812</td>\n",
              "      <td>Sergeant of Police</td>\n",
              "      <td>Patrick Moyer</td>\n",
              "      <td>40</td>\n",
              "    </tr>\n",
              "    <tr>\n",
              "      <th>18189</th>\n",
              "      <td>4035</td>\n",
              "      <td>Police Officer</td>\n",
              "      <td>Michael Carroll</td>\n",
              "      <td>2</td>\n",
              "    </tr>\n",
              "    <tr>\n",
              "      <th>18190</th>\n",
              "      <td>790</td>\n",
              "      <td>Police Officer</td>\n",
              "      <td>James Arceo</td>\n",
              "      <td>68</td>\n",
              "    </tr>\n",
              "    <tr>\n",
              "      <th>18191</th>\n",
              "      <td>10896</td>\n",
              "      <td>Police Officer</td>\n",
              "      <td>Kathleen Gruber</td>\n",
              "      <td>3</td>\n",
              "    </tr>\n",
              "  </tbody>\n",
              "</table>\n",
              "<p>18192 rows × 4 columns</p>\n",
              "</div>"
            ],
            "text/plain": [
              "          id                rank       officer_name  allegation_count\n",
              "0      24416      Police Officer  Michael Rodriguez                12\n",
              "1       4790      Police Officer      Pablo Claudio                 2\n",
              "2      26745  Sergeant of Police      Richard Smith                 3\n",
              "3       3936      Police Officer     Ronald Carlson                 5\n",
              "4      18803      Police Officer      Melvin Mendez                 5\n",
              "...      ...                 ...                ...               ...\n",
              "18187    536      Police Officer   Alphonse Amezaga                 2\n",
              "18188  19812  Sergeant of Police      Patrick Moyer                40\n",
              "18189   4035      Police Officer    Michael Carroll                 2\n",
              "18190    790      Police Officer        James Arceo                68\n",
              "18191  10896      Police Officer    Kathleen Gruber                 3\n",
              "\n",
              "[18192 rows x 4 columns]"
            ]
          },
          "metadata": {},
          "execution_count": 11
        }
      ]
    },
    {
      "cell_type": "code",
      "metadata": {
        "id": "6-3V5XDd1dWU"
      },
      "source": [
        "edges_ = spark.createDataFrame(df_edges)"
      ],
      "execution_count": null,
      "outputs": []
    },
    {
      "cell_type": "code",
      "metadata": {
        "id": "kY1oIlcdQj2-"
      },
      "source": [
        "nodes = spark.createDataFrame(df_nodes)"
      ],
      "execution_count": null,
      "outputs": []
    },
    {
      "cell_type": "code",
      "metadata": {
        "id": "1kx7Dp_eQm1b"
      },
      "source": [
        "cpdb2 = GraphFrame(nodes, edges_)"
      ],
      "execution_count": null,
      "outputs": []
    },
    {
      "cell_type": "code",
      "metadata": {
        "id": "9nwIp0dqSKeO",
        "colab": {
          "base_uri": "https://localhost:8080/"
        },
        "outputId": "fc1ec128-5ea5-46fe-8ef8-e10e55eb7078"
      },
      "source": [
        "tc_cpdb = cpdb2.triangleCount()\n",
        "tc_cpdb.orderBy('count', ascending=False).show()\n",
        "tc_cpdb.select(\"id\", \"count\").show()"
      ],
      "execution_count": null,
      "outputs": [
        {
          "output_type": "stream",
          "name": "stdout",
          "text": [
            "+-----+-----+--------------------+------------------+----------------+\n",
            "|count|   id|                rank|      officer_name|allegation_count|\n",
            "+-----+-----+--------------------+------------------+----------------+\n",
            "|29636| 3033|  Sergeant of Police|    Raimondo Brown|              17|\n",
            "|29633| 6315|      Police Officer|     Terence Davis|              38|\n",
            "|29597| 3744|      Police Officer|    Derek Campbell|               8|\n",
            "|25678|18042|      Police Officer|     Donald Mc Coy|              22|\n",
            "|25646|  441|      Police Officer|   Fernando Alonzo|              16|\n",
            "|22131|21530|      Police Officer|Michael Overstreet|              56|\n",
            "|21846|27349|      Police Officer|   Charles Stanton|              11|\n",
            "|21836| 5180|  Sergeant of Police|    Stephen Conner|               9|\n",
            "|21824| 5667|      Police Officer|     Jerry Crawley|              30|\n",
            "|21814|16747|      Police Officer|     Evetta Lundin|               7|\n",
            "|21812| 8844|      Police Officer|      Thomas Flynn|              19|\n",
            "|21809|23654|      Police Officer|        Lloyd Reid|               4|\n",
            "|21809|14750|      Police Officer|   William Kissane|              23|\n",
            "|18570|19856|      Police Officer|   Ronald Muhammad|              11|\n",
            "|17717| 8138|Lieutenant of Police|       Glenn Evans|             132|\n",
            "|17220|29882|Lieutenant of Police|       Fred Waller|              49|\n",
            "|17066|28273|  Sergeant of Police|      James Taylor|              36|\n",
            "|17014| 5577|  Sergeant of Police|       Michael Cox|              20|\n",
            "|17012|28459|  Sergeant of Police|     Curtis Thomas|              36|\n",
            "|16982|32074|Police Officer as...|    Ronald Jenkins|              46|\n",
            "+-----+-----+--------------------+------------------+----------------+\n",
            "only showing top 20 rows\n",
            "\n",
            "+-----+-----+\n",
            "|   id|count|\n",
            "+-----+-----+\n",
            "|29089|   92|\n",
            "| 2520|   31|\n",
            "|12502|    0|\n",
            "|32117|   67|\n",
            "|23000|    3|\n",
            "|28031|    8|\n",
            "| 4790|    0|\n",
            "| 3936|   16|\n",
            "| 5468|    2|\n",
            "|26745|   55|\n",
            "|24416|   34|\n",
            "|11092|    0|\n",
            "|  576|   67|\n",
            "| 9038|  158|\n",
            "|26770|  118|\n",
            "|13093| 1338|\n",
            "|  176|    1|\n",
            "| 4326|    1|\n",
            "|23535|   31|\n",
            "|31789|  211|\n",
            "+-----+-----+\n",
            "only showing top 20 rows\n",
            "\n"
          ]
        }
      ]
    },
    {
      "cell_type": "code",
      "metadata": {
        "id": "i7270ROPSKgl",
        "colab": {
          "base_uri": "https://localhost:8080/"
        },
        "outputId": "00fcc00e-363b-431a-87f5-3aa267f5f7db"
      },
      "source": [
        "pr_cpdb = cpdb2.pageRank(resetProbability=0.15, tol=0.01)\n",
        "#look at the pagerank score for every vertex\n",
        "pr_cpdb.vertices.orderBy('pagerank', ascending=False).show()\n",
        "pr_cpdb.edges.show()"
      ],
      "execution_count": null,
      "outputs": [
        {
          "output_type": "stream",
          "name": "stdout",
          "text": [
            "+-----+--------------------+------------------+----------------+------------------+\n",
            "|   id|                rank|      officer_name|allegation_count|          pagerank|\n",
            "+-----+--------------------+------------------+----------------+------------------+\n",
            "|32350|      Police Officer|    Robert Spiegel|              20| 59.94255110579391|\n",
            "|32351|      Police Officer|  Boonserm Srisuth|              25| 58.47588273428055|\n",
            "|32419|      Police Officer|         Eric Wier|              18| 55.54706144219321|\n",
            "|32284|      Police Officer|         Mark Reno|              76| 55.05553771973534|\n",
            "|32384|      Police Officer|     Edwin Utreras|              47| 52.46541790094154|\n",
            "|32337|Police Officer as...|       Louis Silva|              21| 51.72556067035757|\n",
            "|32413|      Police Officer| Carl Weatherspoon|              69|  50.3834356160415|\n",
            "|32289|      Police Officer|       John Rivera|              44| 49.31297984845296|\n",
            "|32074|Police Officer as...|    Ronald Jenkins|              46| 47.94275095359477|\n",
            "|32375|Lieutenant of Police|James Triantafillo|              31| 45.85995467646986|\n",
            "|32324|      Police Officer|  Kathleen Schmidt|              15| 41.26315879539915|\n",
            "|32406|      Police Officer|     Reginald Ward|              17|  40.7491314934534|\n",
            "|32383|      Police Officer|    Armando Ugarte|              47|39.858307108258586|\n",
            "|31906|      Police Officer|       James Davis|              76| 38.38390375443792|\n",
            "|32378|      Police Officer|        Mark Trost|              29| 37.91554514385917|\n",
            "|32355|      Police Officer|   Laurence Stiles|              19|37.352703853575974|\n",
            "|32341|Police Officer as...|   Robert Slechter|              12| 36.72613447343105|\n",
            "|32280|      Police Officer|      Eddie Randle|              32| 36.34386614017926|\n",
            "|32339|      Police Officer|       Keith Sinks|              20| 34.26975822289742|\n",
            "|32237|      Police Officer|    Louis Ortoneda|              52|33.881065019348554|\n",
            "+-----+--------------------+------------------+----------------+------------------+\n",
            "only showing top 20 rows\n",
            "\n",
            "+---+-----+------------+--------------------+\n",
            "|src|  dst|relationship|              weight|\n",
            "+---+-----+------------+--------------------+\n",
            "|  1|  800|           1| 0.14285714285714285|\n",
            "|  1|10302|           1| 0.14285714285714285|\n",
            "|  1|16856|           1| 0.14285714285714285|\n",
            "|  1|24596|           1| 0.14285714285714285|\n",
            "|  2| 2575|           1|0.045454545454545456|\n",
            "|  2| 5714|           1|0.045454545454545456|\n",
            "|  2| 9271|           1|0.045454545454545456|\n",
            "|  2|11686|           1|0.045454545454545456|\n",
            "|  2|13744|           1|0.045454545454545456|\n",
            "|  2|29491|           1|0.045454545454545456|\n",
            "|  2|32243|           1|0.045454545454545456|\n",
            "|  2|32402|           1|0.045454545454545456|\n",
            "|  4| 4380|           1|                0.25|\n",
            "|  4|13208|           1|                0.25|\n",
            "|  4|13917|           1|                0.25|\n",
            "|  4|15095|           2|                0.25|\n",
            "|  5|  137|           1| 0.02857142857142857|\n",
            "|  5| 1256|           1| 0.02857142857142857|\n",
            "|  5| 5044|           1| 0.02857142857142857|\n",
            "|  5| 5731|           1| 0.02857142857142857|\n",
            "+---+-----+------------+--------------------+\n",
            "only showing top 20 rows\n",
            "\n"
          ]
        }
      ]
    }
  ]
}