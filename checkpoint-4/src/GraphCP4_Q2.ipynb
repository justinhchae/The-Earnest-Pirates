{
  "nbformat": 4,
  "nbformat_minor": 0,
  "metadata": {
    "colab": {
      "name": "GraphCP4-Q2.ipynb",
      "provenance": [],
      "collapsed_sections": []
    },
    "kernelspec": {
      "name": "python3",
      "display_name": "Python 3"
    },
    "language_info": {
      "name": "python"
    }
  },
  "cells": [
    {
      "cell_type": "code",
      "metadata": {
        "colab": {
          "base_uri": "https://localhost:8080/"
        },
        "id": "zBx81u-007VH",
        "outputId": "d79a4653-7e1a-4dc5-969d-625f198b9e18"
      },
      "source": [
        "# install java\n",
        "!apt-get install openjdk-8-jdk-headless -qq > /dev/null\n",
        "\n",
        "# install spark (change the version number if needed)\n",
        "!wget -q https://archive.apache.org/dist/spark/spark-3.2.0/spark-3.2.0-bin-hadoop3.2.tgz\n",
        "\n",
        "# unzip the spark file to the current folder\n",
        "!tar xf spark-3.2.0-bin-hadoop3.2.tgz\n",
        "\n",
        "# set your spark folder to your system path environment. \n",
        "import os\n",
        "os.environ[\"JAVA_HOME\"] = \"/usr/lib/jvm/java-8-openjdk-amd64\"\n",
        "os.environ[\"SPARK_HOME\"] = \"/content/spark-3.2.0-bin-hadoop3.2\"\n",
        "\n",
        "# install findspark using pip\n",
        "!pip install -q findspark\n",
        "\n",
        "# install pyspark\n",
        "!pip3 install pyspark==3.2.0\n",
        "\n",
        "# install graphframes\n",
        "!pip3 install graphframes"
      ],
      "execution_count": null,
      "outputs": [
        {
          "output_type": "stream",
          "name": "stdout",
          "text": [
            "Collecting pyspark==3.2.0\n",
            "  Downloading pyspark-3.2.0.tar.gz (281.3 MB)\n",
            "\u001b[K     |████████████████████████████████| 281.3 MB 37 kB/s \n",
            "\u001b[?25hCollecting py4j==0.10.9.2\n",
            "  Downloading py4j-0.10.9.2-py2.py3-none-any.whl (198 kB)\n",
            "\u001b[K     |████████████████████████████████| 198 kB 68.9 MB/s \n",
            "\u001b[?25hBuilding wheels for collected packages: pyspark\n",
            "  Building wheel for pyspark (setup.py) ... \u001b[?25l\u001b[?25hdone\n",
            "  Created wheel for pyspark: filename=pyspark-3.2.0-py2.py3-none-any.whl size=281805912 sha256=6a277d11ef5043bf197e3117a8429c637a7d12b59ef565324e145dc290a9d9ca\n",
            "  Stored in directory: /root/.cache/pip/wheels/0b/de/d2/9be5d59d7331c6c2a7c1b6d1a4f463ce107332b1ecd4e80718\n",
            "Successfully built pyspark\n",
            "Installing collected packages: py4j, pyspark\n",
            "Successfully installed py4j-0.10.9.2 pyspark-3.2.0\n",
            "Collecting graphframes\n",
            "  Downloading graphframes-0.6-py2.py3-none-any.whl (18 kB)\n",
            "Collecting nose\n",
            "  Downloading nose-1.3.7-py3-none-any.whl (154 kB)\n",
            "\u001b[K     |████████████████████████████████| 154 kB 30.4 MB/s \n",
            "\u001b[?25hRequirement already satisfied: numpy in /usr/local/lib/python3.7/dist-packages (from graphframes) (1.19.5)\n",
            "Installing collected packages: nose, graphframes\n",
            "Successfully installed graphframes-0.6 nose-1.3.7\n"
          ]
        }
      ]
    },
    {
      "cell_type": "code",
      "metadata": {
        "colab": {
          "base_uri": "https://localhost:8080/"
        },
        "id": "ZN5pIMSC1Ggo",
        "outputId": "d4b83edb-c5fe-40dd-809d-edb560df9ce5"
      },
      "source": [
        "!cp -v /content/graphframes-0.8.2-spark3.2-s_2.12.jar $SPARK_HOME/jars/"
      ],
      "execution_count": null,
      "outputs": [
        {
          "output_type": "stream",
          "name": "stdout",
          "text": [
            "'/content/graphframes-0.8.2-spark3.2-s_2.12.jar' -> '/content/spark-3.2.0-bin-hadoop3.2/jars/graphframes-0.8.2-spark3.2-s_2.12.jar'\n"
          ]
        }
      ]
    },
    {
      "cell_type": "code",
      "metadata": {
        "id": "njBUzZ4h0-rn"
      },
      "source": [
        "#import the packages\n",
        "from pyspark import *\n",
        "from pyspark.sql import *\n",
        "from graphframes import *\n",
        "import findspark\n",
        "import pandas as pd\n",
        "\n",
        "findspark.init()\n",
        "\n",
        "# Start a Spark session\n",
        "spark = SparkSession.builder.master(\"local[*]\").getOrCreate()"
      ],
      "execution_count": null,
      "outputs": []
    },
    {
      "cell_type": "code",
      "metadata": {
        "colab": {
          "base_uri": "https://localhost:8080/"
        },
        "id": "gn5Hte4a0-um",
        "outputId": "e8eeeb95-c68c-4acd-f33b-d19d3fb72335"
      },
      "source": [
        "import psycopg2\n",
        "import pandas as pd"
      ],
      "execution_count": null,
      "outputs": [
        {
          "output_type": "stream",
          "name": "stderr",
          "text": [
            "/usr/local/lib/python3.7/dist-packages/psycopg2/__init__.py:144: UserWarning: The psycopg2 wheel package will be renamed from release 2.8; in order to keep installing from binary please use \"pip install psycopg2-binary\" instead. For details see: <http://initd.org/psycopg/docs/install.html#binary-install-from-pypi>.\n",
            "  \"\"\")\n"
          ]
        }
      ]
    },
    {
      "cell_type": "code",
      "metadata": {
        "id": "Dg91LsqU1KaQ"
      },
      "source": [
        "#establishing the connection\n",
        "conn = psycopg2.connect(\n",
        "   database=\"postgres\", user='cpdbstudent', password='DataSci4AI', host='codd01.research.northwestern.edu', port= '5432'\n",
        ")"
      ],
      "execution_count": null,
      "outputs": []
    },
    {
      "cell_type": "code",
      "metadata": {
        "id": "4xcjkyrU1Kc4"
      },
      "source": [
        "cursor = conn.cursor()"
      ],
      "execution_count": null,
      "outputs": []
    },
    {
      "cell_type": "code",
      "metadata": {
        "id": "CWxiBQPV1Kfx"
      },
      "source": [
        "edges_query = '''\n",
        "DROP TABLE IF EXISTS ids_distinct2;\n",
        "create temp table ids_distinct2 as(\n",
        "select distinct a.id\n",
        "   \tfrom data_officer a\n",
        "join (\n",
        "Select POLICE_UNIT, COUNT_ALLEGATIONS, total_officers, TRUNC((COUNT_ALLEGATIONS :: numeric / total_officers),2) as allegation_ratio_per_unit  from\n",
        "(select b.last_unit_id AS POLICE_UNIT, count(a.officer_id) AS COUNT_ALLEGATIONS from data_officerallegation a\n",
        "join data_officer b\n",
        "on a.officer_id = b.id\n",
        "group by b.last_unit_id\n",
        "order by count(a.officer_id) desc)A\n",
        "\n",
        "Inner join\n",
        "\n",
        "(Select count(id) as total_officers, last_unit_id from data_officer group by last_unit_id order by  last_unit_id)B\n",
        "\n",
        "on A.POLICE_UNIT = B.last_unit_id order by allegation_ratio_per_unit desc\n",
        "limit 10) pu\n",
        "on a.last_unit_id = pu.POLICE_UNIT);\n",
        "\n",
        "select src, dst, relationship from(\n",
        "SELECT da1.officer_id src, da2.officer_id dst, COUNT(DISTINCT da1.allegation_id) relationship\n",
        "FROM data_officerallegation da1\n",
        "JOIN data_officerallegation da2 ON da1.allegation_id = da2.allegation_id AND da1.officer_id < da2.officer_id\n",
        "GROUP BY da1.officer_id, da2.officer_id ORDER BY count(*) DESC)popln_sample2\n",
        "JOIN ids_distinct2 ON ids_distinct2.id = popln_sample2.src;\n",
        "\n",
        "'''"
      ],
      "execution_count": null,
      "outputs": []
    },
    {
      "cell_type": "code",
      "metadata": {
        "id": "XDRNobJt1Kim"
      },
      "source": [
        "nodes_query = '''\n",
        "DROP TABLE IF EXISTS ids_distinct2;\n",
        "create temp table ids_distinct2 as(\n",
        "select distinct a.id\n",
        "   \tfrom data_officer a\n",
        "join (\n",
        "Select POLICE_UNIT, COUNT_ALLEGATIONS, total_officers, TRUNC((COUNT_ALLEGATIONS :: numeric / total_officers),2) as allegation_ratio_per_unit  from\n",
        "(select b.last_unit_id AS POLICE_UNIT, count(a.officer_id) AS COUNT_ALLEGATIONS from data_officerallegation a\n",
        "join data_officer b\n",
        "on a.officer_id = b.id\n",
        "group by b.last_unit_id\n",
        "order by count(a.officer_id) desc)A\n",
        "\n",
        "Inner join\n",
        "\n",
        "(Select count(id) as total_officers, last_unit_id from data_officer group by last_unit_id order by  last_unit_id)B\n",
        "\n",
        "on A.POLICE_UNIT = B.last_unit_id order by allegation_ratio_per_unit desc\n",
        "limit 10) pu\n",
        "on a.last_unit_id = pu.POLICE_UNIT);\n",
        "\n",
        "DROP TABLE IF EXISTS edges_q2;\n",
        "create temp table edges_q2 as(\n",
        "select src, dst, relationship from(\n",
        "SELECT da1.officer_id src, da2.officer_id dst, COUNT(DISTINCT da1.allegation_id) relationship\n",
        "FROM data_officerallegation da1\n",
        "JOIN data_officerallegation da2 ON da1.allegation_id = da2.allegation_id AND da1.officer_id < da2.officer_id\n",
        "GROUP BY da1.officer_id, da2.officer_id ORDER BY count(*) DESC)popln_sample2\n",
        "JOIN ids_distinct2 ON ids_distinct2.id = popln_sample2.src);\n",
        "\n",
        "SELECT  id, last_unit_id, first_name || ' ' || last_name officer_name, allegation_count FROM data_officer\n",
        "where id in (select distinct src from edges_q2);\n",
        "\n",
        "'''"
      ],
      "execution_count": null,
      "outputs": []
    },
    {
      "cell_type": "code",
      "metadata": {
        "colab": {
          "base_uri": "https://localhost:8080/"
        },
        "id": "tqT0uAqD0-xc",
        "outputId": "fc93be69-54ff-4bd4-8d8c-934ff1a016e3"
      },
      "source": [
        "cursor.execute(edges_query)\n",
        "edges = cursor.fetchall()\n",
        "print(\"shape is: \" + str(len(edges))) # 17465\n",
        "\n",
        "df_edges = pd.DataFrame(edges)\n",
        "colnames = [desc[0] for desc in cursor.description]\n",
        "df_edges.columns = colnames"
      ],
      "execution_count": null,
      "outputs": [
        {
          "output_type": "stream",
          "name": "stdout",
          "text": [
            "shape is: 2776\n"
          ]
        }
      ]
    },
    {
      "cell_type": "code",
      "metadata": {
        "colab": {
          "base_uri": "https://localhost:8080/"
        },
        "id": "8cr5WG6C1dIu",
        "outputId": "b8b42796-8b79-434c-9f71-f9fff9b6e671"
      },
      "source": [
        "cursor.execute(nodes_query)\n",
        "nodes = cursor.fetchall()\n",
        "print(\"shape is: \" + str(len(nodes))) # 17465\n",
        "\n",
        "df_nodes = pd.DataFrame(nodes)\n",
        "colnames = [desc[0] for desc in cursor.description]\n",
        "df_nodes.columns = colnames"
      ],
      "execution_count": null,
      "outputs": [
        {
          "output_type": "stream",
          "name": "stdout",
          "text": [
            "shape is: 125\n"
          ]
        }
      ]
    },
    {
      "cell_type": "code",
      "metadata": {
        "colab": {
          "base_uri": "https://localhost:8080/",
          "height": 419
        },
        "id": "qCEoYJS51dNY",
        "outputId": "29c8b8e5-053d-472d-a457-ed8b7c160320"
      },
      "source": [
        "df_nodes"
      ],
      "execution_count": null,
      "outputs": [
        {
          "output_type": "execute_result",
          "data": {
            "text/html": [
              "<div>\n",
              "<style scoped>\n",
              "    .dataframe tbody tr th:only-of-type {\n",
              "        vertical-align: middle;\n",
              "    }\n",
              "\n",
              "    .dataframe tbody tr th {\n",
              "        vertical-align: top;\n",
              "    }\n",
              "\n",
              "    .dataframe thead th {\n",
              "        text-align: right;\n",
              "    }\n",
              "</style>\n",
              "<table border=\"1\" class=\"dataframe\">\n",
              "  <thead>\n",
              "    <tr style=\"text-align: right;\">\n",
              "      <th></th>\n",
              "      <th>id</th>\n",
              "      <th>last_unit_id</th>\n",
              "      <th>officer_name</th>\n",
              "      <th>allegation_count</th>\n",
              "    </tr>\n",
              "  </thead>\n",
              "  <tbody>\n",
              "    <tr>\n",
              "      <th>0</th>\n",
              "      <td>28298</td>\n",
              "      <td>266</td>\n",
              "      <td>Brian Tedeschi</td>\n",
              "      <td>11</td>\n",
              "    </tr>\n",
              "    <tr>\n",
              "      <th>1</th>\n",
              "      <td>8769</td>\n",
              "      <td>175</td>\n",
              "      <td>Jose Flores</td>\n",
              "      <td>17</td>\n",
              "    </tr>\n",
              "    <tr>\n",
              "      <th>2</th>\n",
              "      <td>11427</td>\n",
              "      <td>174</td>\n",
              "      <td>Derrick Harland</td>\n",
              "      <td>7</td>\n",
              "    </tr>\n",
              "    <tr>\n",
              "      <th>3</th>\n",
              "      <td>1172</td>\n",
              "      <td>174</td>\n",
              "      <td>Damen Balesteri</td>\n",
              "      <td>58</td>\n",
              "    </tr>\n",
              "    <tr>\n",
              "      <th>4</th>\n",
              "      <td>867</td>\n",
              "      <td>174</td>\n",
              "      <td>Reginald Arrington</td>\n",
              "      <td>23</td>\n",
              "    </tr>\n",
              "    <tr>\n",
              "      <th>...</th>\n",
              "      <td>...</td>\n",
              "      <td>...</td>\n",
              "      <td>...</td>\n",
              "      <td>...</td>\n",
              "    </tr>\n",
              "    <tr>\n",
              "      <th>120</th>\n",
              "      <td>5571</td>\n",
              "      <td>173</td>\n",
              "      <td>Bryan Cox</td>\n",
              "      <td>26</td>\n",
              "    </tr>\n",
              "    <tr>\n",
              "      <th>121</th>\n",
              "      <td>32310</td>\n",
              "      <td>174</td>\n",
              "      <td>Bradley Ruzak</td>\n",
              "      <td>26</td>\n",
              "    </tr>\n",
              "    <tr>\n",
              "      <th>122</th>\n",
              "      <td>28203</td>\n",
              "      <td>266</td>\n",
              "      <td>Johnny Tate</td>\n",
              "      <td>12</td>\n",
              "    </tr>\n",
              "    <tr>\n",
              "      <th>123</th>\n",
              "      <td>6221</td>\n",
              "      <td>174</td>\n",
              "      <td>Herbert Darey</td>\n",
              "      <td>25</td>\n",
              "    </tr>\n",
              "    <tr>\n",
              "      <th>124</th>\n",
              "      <td>31972</td>\n",
              "      <td>175</td>\n",
              "      <td>Terry Frigo</td>\n",
              "      <td>10</td>\n",
              "    </tr>\n",
              "  </tbody>\n",
              "</table>\n",
              "<p>125 rows × 4 columns</p>\n",
              "</div>"
            ],
            "text/plain": [
              "        id  last_unit_id        officer_name  allegation_count\n",
              "0    28298           266      Brian Tedeschi                11\n",
              "1     8769           175         Jose Flores                17\n",
              "2    11427           174     Derrick Harland                 7\n",
              "3     1172           174     Damen Balesteri                58\n",
              "4      867           174  Reginald Arrington                23\n",
              "..     ...           ...                 ...               ...\n",
              "120   5571           173           Bryan Cox                26\n",
              "121  32310           174       Bradley Ruzak                26\n",
              "122  28203           266         Johnny Tate                12\n",
              "123   6221           174       Herbert Darey                25\n",
              "124  31972           175         Terry Frigo                10\n",
              "\n",
              "[125 rows x 4 columns]"
            ]
          },
          "metadata": {},
          "execution_count": 11
        }
      ]
    },
    {
      "cell_type": "code",
      "metadata": {
        "id": "6-3V5XDd1dWU"
      },
      "source": [
        "edges_ = spark.createDataFrame(df_edges)"
      ],
      "execution_count": null,
      "outputs": []
    },
    {
      "cell_type": "code",
      "metadata": {
        "id": "kY1oIlcdQj2-"
      },
      "source": [
        "nodes = spark.createDataFrame(df_nodes)"
      ],
      "execution_count": null,
      "outputs": []
    },
    {
      "cell_type": "code",
      "metadata": {
        "id": "1kx7Dp_eQm1b"
      },
      "source": [
        "cpdb2 = GraphFrame(nodes, edges_)"
      ],
      "execution_count": null,
      "outputs": []
    },
    {
      "cell_type": "code",
      "metadata": {
        "colab": {
          "base_uri": "https://localhost:8080/"
        },
        "id": "9nwIp0dqSKeO",
        "outputId": "fbb7c13a-b46f-4c4b-f8d5-4bcb8bd9af47"
      },
      "source": [
        "tc_cpdb = cpdb2.triangleCount()\n",
        "tc_cpdb.orderBy('count', ascending=False).show()\n",
        "tc_cpdb.select(\"id\", \"count\").show()"
      ],
      "execution_count": null,
      "outputs": [
        {
          "output_type": "stream",
          "name": "stdout",
          "text": [
            "+-----+-----+------------+------------------+----------------+\n",
            "|count|   id|last_unit_id|      officer_name|allegation_count|\n",
            "+-----+-----+------------+------------------+----------------+\n",
            "|    7|18176|         174|       John Mc Gee|              34|\n",
            "|    7| 3395|         173|        Adam Burns|              16|\n",
            "|    7| 1172|         174|   Damen Balesteri|              58|\n",
            "|    6|30537|         174|   Tracy Whitehead|              19|\n",
            "|    6|10558|         266|    Anthony Granat|              21|\n",
            "|    6|27385|         174|     Bill Starling|              29|\n",
            "|    5|11641|         174|       Craig Hatch|               7|\n",
            "|    5|12220|         173|     Courtney Hill|              72|\n",
            "|    4|27439|         173| Robert Stegmiller|              62|\n",
            "|    4| 2671|         173|      Sean Brandon|              40|\n",
            "|    4|10663|         174|       Andre Green|              36|\n",
            "|    4|23600|         173|        Brian Reed|              23|\n",
            "|    3| 2588|         174|    Jason Bradford|              16|\n",
            "|    3| 6221|         174|     Herbert Darey|              25|\n",
            "|    3|  867|         174|Reginald Arrington|              23|\n",
            "|    3|24324|         174|  Brandon Rodekohr|              16|\n",
            "|    3|25191|         173|     David Salgado|              31|\n",
            "|    3| 7982|         173|     Kenneth Epich|              45|\n",
            "|    3|29613|         173|  Marco Villarreal|              10|\n",
            "|    2|24521|         175|      Carlos Rojas|              71|\n",
            "+-----+-----+------------+------------------+----------------+\n",
            "only showing top 20 rows\n",
            "\n",
            "+-----+-----+\n",
            "|   id|count|\n",
            "+-----+-----+\n",
            "| 5572|    0|\n",
            "|28298|    1|\n",
            "|31996|    1|\n",
            "| 6983|    1|\n",
            "|24521|    2|\n",
            "| 8769|    0|\n",
            "|10664|    2|\n",
            "|  867|    3|\n",
            "| 1172|    7|\n",
            "|15619|    0|\n",
            "|28735|    0|\n",
            "|27935|    0|\n",
            "| 7982|    3|\n",
            "|20384|    0|\n",
            "| 1825|    0|\n",
            "| 3395|    7|\n",
            "|11427|    2|\n",
            "|10196|    0|\n",
            "|21941|    1|\n",
            "|14187|    0|\n",
            "+-----+-----+\n",
            "only showing top 20 rows\n",
            "\n"
          ]
        }
      ]
    },
    {
      "cell_type": "code",
      "metadata": {
        "colab": {
          "base_uri": "https://localhost:8080/"
        },
        "id": "i7270ROPSKgl",
        "outputId": "2788e1d6-68a5-41f4-edb3-4ac78deef1e3"
      },
      "source": [
        "pr_cpdb = cpdb2.pageRank(resetProbability=0.15, tol=0.01)\n",
        "#look at the pagerank score for every vertex\n",
        "pr_cpdb.vertices.orderBy('pagerank', ascending=False).show()\n",
        "pr_cpdb.edges.show()"
      ],
      "execution_count": null,
      "outputs": [
        {
          "output_type": "stream",
          "name": "stdout",
          "text": [
            "+-----+------------+-----------------+----------------+------------------+\n",
            "|   id|last_unit_id|     officer_name|allegation_count|          pagerank|\n",
            "+-----+------------+-----------------+----------------+------------------+\n",
            "|31996|         175|     German Gomez|              12| 1.305863820393211|\n",
            "|25191|         173|    David Salgado|              31|1.1865471624739725|\n",
            "|27935|         165|    Matthew Swain|              61|1.1847111268651542|\n",
            "|32406|         173|    Reginald Ward|              17|1.1645157563285098|\n",
            "|24521|         175|     Carlos Rojas|              71|1.1580852338143208|\n",
            "|27439|         173|Robert Stegmiller|              62|1.1577471014734335|\n",
            "|30320|         180| Robert Weisskopf|              23|1.1524574235387521|\n",
            "|29445|         173|        Luis Vega|              53|1.1440847317012035|\n",
            "|30537|         174|  Tracy Whitehead|              19|1.1299951650932252|\n",
            "|23600|         173|       Brian Reed|              23| 1.121360147183769|\n",
            "|30387|         173|  Mark Wesselhoff|              12| 1.119362425837314|\n",
            "|18176|         174|      John Mc Gee|              34|1.1001864159642845|\n",
            "|32310|         174|    Bradley Ruzak|              26|1.0931619943906823|\n",
            "|28335|         180|   Jesse Terrazas|              60| 1.069512583185627|\n",
            "|32235|         174|     Kevin Oneill|              16|1.0671639477854686|\n",
            "|28734|         175|    Daniel Torres|               9|1.0658958202979916|\n",
            "|27385|         174|    Bill Starling|              29|1.0620978011392457|\n",
            "|10558|         266|   Anthony Granat|              21| 1.058339206340742|\n",
            "|19834|         174|     Todd Mueller|              27| 1.057729659160206|\n",
            "|32400|         175|     Adam Wallace|              16|1.0402479378562848|\n",
            "+-----+------------+-----------------+----------------+------------------+\n",
            "only showing top 20 rows\n",
            "\n",
            "+----+-----+------------+--------------------+\n",
            "| src|  dst|relationship|              weight|\n",
            "+----+-----+------------+--------------------+\n",
            "|1825|18588|           1|                0.04|\n",
            "|3395| 4936|           1|0.021739130434782608|\n",
            "| 672|17251|           1|0.045454545454545456|\n",
            "|1932|13598|           1|0.004504504504504...|\n",
            "|1932|27686|           1|0.004504504504504...|\n",
            "|2671|12932|           1|0.014705882352941176|\n",
            "|3395| 5131|           1|0.021739130434782608|\n",
            "|3395|23913|           1|0.021739130434782608|\n",
            "|6451|32287|           1|0.012345679012345678|\n",
            "| 867|22423|           2|0.030303030303030304|\n",
            "|1932|31176|           1|0.004504504504504...|\n",
            "|5571|18462|           1|0.022727272727272728|\n",
            "| 672| 1177|           1|0.045454545454545456|\n",
            "| 847|18266|           1| 0.07142857142857142|\n",
            "|1932| 4993|           1|0.004504504504504...|\n",
            "|1932|12247|           1|0.004504504504504...|\n",
            "|1932|24716|           1|0.004504504504504...|\n",
            "|5406|24596|           2|0.016666666666666666|\n",
            "|5494| 6009|           1| 0.07142857142857142|\n",
            "|3743|27229|           2| 0.02564102564102564|\n",
            "+----+-----+------------+--------------------+\n",
            "only showing top 20 rows\n",
            "\n"
          ]
        }
      ]
    }
  ]
}